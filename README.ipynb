{
 "cells": [
  {
   "cell_type": "markdown",
   "metadata": {},
   "source": [
    "# Como configurar/instalar/usar ` configurar o GRUB` no `Linux Ubuntu`\n",
    "\n",
    "## Resumo\n",
    "\n",
    "Neste documento estão contidos os principais comandos e configurações para configurar/instalar/usar `configurar o GRUB` no `Linux Ubuntu`.\n",
    "\n",
    "## _Abstract_\n",
    "\n",
    "_This document contains the main commands and settings to configure/install/usar `configure the GRUB` on `Linux Ubuntu`._"
   ]
  },
  {
   "cell_type": "markdown",
   "metadata": {
    "vscode": {
     "languageId": "plaintext"
    }
   },
   "source": [
    "## Descrição\n",
    "\n",
    "### `GRUB (Grand Unified Bootloader)`\n",
    "\n",
    "O GRUB (Grand Unified Bootloader) é um carregador de inicialização multissistema muito utilizado em sistemas operacionais baseados em Unix, como Linux e FreeBSD. Sua função principal é gerenciar o processo de boot do computador, permitindo que o usuário escolha entre diferentes sistemas operacionais instalados ou diferentes versões de um mesmo sistema. O GRUB se destaca por sua flexibilidade e capacidade de personalização, oferecendo suporte a diversos sistemas de arquivos e possuindo recursos como a detecção automática de outros sistemas operacionais e a capacidade de modificar parâmetros de inicialização em tempo real. Ele substituiu o LILO (Linux Loader) como o carregador de boot padrão em muitas distribuições Linux, devido à sua maior facilidade de configuração e robustez\n"
   ]
  },
  {
   "cell_type": "markdown",
   "metadata": {},
   "source": [
    "## 1. Configurar o GRUB do `Linux Ubuntu` [1]\n",
    "\n",
    "**ATENÇÂO**: Tenha em mente que o `GRUB` deve ser instalado no primário da sequência de `boot`, logo, se ele for instalado em outro disco, este, por sua vez, deve ser alterado para ser o primeiro disco na inicialização do computador.\n",
    "\n",
    "### 1.1 Atualizar o Sistema Operacional (SO)\n",
    "\n",
    "Para editar o arquivo de configuração do GRUB no Linux, você geralmente trabalhará com o arquivo /etc/default/grub. Este arquivo contém as configurações principais do GRUB, permitindo personalizar o processo de boot do sistema. Aqui está um guia passo a passo sobre como editá-lo:\n",
    "\n",
    "1. Abra o terminal. Você pode fazer isso pressionando: `Ctrl + Alt + T`\n"
   ]
  },
  {
   "cell_type": "markdown",
   "metadata": {},
   "source": [
    "2. Certifique-se de que seu sistema esteja limpo e atualizado.\n",
    "\n",
    "    2.1 Limpar o `cache` do gerenciador de pacotes APT. Especificamente, ele remove todos os arquivos de pacotes (`.deb`) baixados pelo APT e armazenados em `/var/cache/apt/archives/`. Digite o seguinte comando: `sudo apt clean` \n",
    "    \n",
    "    2.2 Remover pacotes `.deb` antigos ou duplicados do cache local. É útil para liberar espaço, pois remove apenas os pacotes que não podem mais ser baixados (ou seja, versões antigas de pacotes que foram atualizados). Digite o seguinte comando: `sudo apt autoclean`\n",
    "\n",
    "    2.3 Remover pacotes que foram automaticamente instalados para satisfazer as dependências de outros pacotes e que não são mais necessários. Digite o seguinte comando: `sudo apt autoremove -y`\n",
    "\n",
    "    2.4 Buscar as atualizações disponíveis para os pacotes que estão instalados em seu sistema. Digite o seguinte comando e pressione `Enter`: `sudo apt update -y`\n",
    "\n",
    "    2.5 Para ver a lista de pacotes a serem atualizados, digite o seguinte comando e pressione `Enter`:  `sudo apt list --upgradable`\n",
    "\n",
    "    2.6 Realmente atualizar os pacotes instalados para as suas versões mais recentes, com base na última vez que você executou `sudo apt update -y`. Digite o seguinte comando e pressione `Enter`: `sudo apt full-upgrade -y`\n",
    "\n",
    "    2.7 Remover pacotes que foram automaticamente instalados para satisfazer as dependências de outros pacotes e que não são mais necessários. Digite o seguinte comando: `sudo apt autoremove -y`\n",
    "\n",
    "    2.8 Remover pacotes `.deb` antigos ou duplicados do cache local. É útil para liberar espaço, pois remove apenas os pacotes que não podem mais ser baixados (ou seja, versões antigas de pacotes que foram atualizados). Digite o seguinte comando: `sudo apt autoclean`"
   ]
  },
  {
   "cell_type": "markdown",
   "metadata": {},
   "source": [
    "3. Abra o arquivo com um editor de texto: Geralmente, usa-se um editor como o `nano` ou `vim`. Por exemplo, para usar o `nano`, você digitaria: `sudo nano /etc/default/grub`\n",
    "\n",
    "Lembre-se de que você precisa de privilégios de superusuário para editar este arquivo, por isso usamos `sudo`.\n",
    "\n",
    "4. **Edite as configurações conforme necessário:** No arquivo, você encontrará várias opções, como `GRUB_TIMEOUT`, que define o tempo de espera antes do boot padrão, e `GRUB_CMDLINE_LINUX_DEFAULT`, onde você pode adicionar parâmetros do kernel. Abaixo, tem-se uma configuração padrão sugerida:\n",
    "\n",
    "    ```\n",
    "    # If you change this file, run 'update-grub' afterwards to update\n",
    "    # /boot/grub/grub.cfg.\n",
    "    # For full documentation of the options in this file, see:\n",
    "    #   info -f grub -n 'Simple configuration'\n",
    "\n",
    "    GRUB_DEFAULT=\"0\"\n",
    "    GRUB_TIMEOUT_STYLE=\"menu\"\n",
    "    GRUB_TIMEOUT=\"10\"\n",
    "    GRUB_DISTRIBUTOR=\"`lsb_release -i -s 2> /dev/null || echo Debian`\"\n",
    "    GRUB_CMDLINE_LINUX_DEFAULT=\"noquiet nosplash resume=UUID=<seu-uuid-de-swap>\"\n",
    "    # GRUB_CMDLINE_LINUX=\"\"\n",
    "\n",
    "    # Uncomment to enable BadRAM filtering, modify to suit your needs\n",
    "    # This works with Linux (no patch required) and with any kernel that obtains\n",
    "    # the memory map information from GRUB (GNU Mach, kernel of FreeBSD ...)\n",
    "    # GRUB_BADRAM=\"0x01234567,0xfefefefe,0x89abcdef,0xefefefef\"\n",
    "\n",
    "    # Uncomment to disable graphical terminal (grub-pc only)\n",
    "    # GRUB_TERMINAL=console\n",
    "\n",
    "    # The resolution used on graphical terminal\n",
    "    # note that you can use only modes which your graphic card supports via VBE\n",
    "    # you can see them in real GRUB with the command `vbeinfo'\n",
    "    # GRUB_GFXMODE=640x480\n",
    "\n",
    "    # Uncomment if you don't want GRUB to pass \"root=UUID=xxx\" parameter to Linux\n",
    "    # GRUB_DISABLE_LINUX_UUID=true\n",
    "\n",
    "    # Uncomment to disable generation of recovery mode menu entries\n",
    "    # GRUB_DISABLE_RECOVERY=\"true\"\n",
    "\n",
    "    # Uncomment to get a beep at grub start\n",
    "    # GRUB_INIT_TUNE=\"480 440 1\"\n",
    "\n",
    "    GRUB_DISABLE_OS_PROBER=\"false\"\n",
    "    GRUB_COLOR_NORMAL=\"light-gray/black\"\n",
    "    GRUB_COLOR_HIGHLIGHT=\"magenta/black\"\n",
    "    ```"
   ]
  },
  {
   "cell_type": "markdown",
   "metadata": {},
   "source": [
    "5. **Salve as alterações:** No `nano`, você faz isso pressionando `Ctrl+O` para salvar e depois `Ctrl+X` para sair. Se estiver usando `vim`, salve com `:w` e saia com `:q`.\n",
    "\n",
    "6. **Atualize o GRUB:** Após salvar suas alterações, você precisa atualizar a configuração do GRUB para que as alterações entrem em vigor. Isso é feito com o comando: `sudo update-grub`\n",
    "\n",
    "7. Reinicie o sistema: Para verificar as alterações, reinicie o sistema.\n",
    "\n",
    "Lembre-se de ser cuidadoso ao editar as configurações do GRUB, pois erros podem afetar o processo de boot do seu sistema. Se você não tem certeza sobre uma configuração, é recomendável procurar mais informações ou consultar a documentação relevante.\n"
   ]
  },
  {
   "cell_type": "markdown",
   "metadata": {},
   "source": [
    "## 1.1 Código completo para configurar/instalar/usar \n",
    "\n",
    "Para configurar/instalar/usar o `GRUB Customizer` no `Linux Ubuntu` sem precisar digitar linha por linha, você pode seguir estas etapas:\n",
    "\n",
    "1. Abra o terminal. Você pode fazer isso pressionando: `Ctrl + Alt + T`\n",
    "\n",
    "2. Digite o seguinte comando e pressione `Enter`:\n",
    "\n",
    "    ```\n",
    "    NÃO há.\n",
    "    ```\n"
   ]
  },
  {
   "cell_type": "markdown",
   "metadata": {
    "vscode": {
     "languageId": "plaintext"
    }
   },
   "source": [
    "## Referências\n",
    "\n",
    "[1] OPENAI. ***GRUB: Carregador de inicialização multifuncional.*** Disponível em: <https://chat.openai.com/c/4e8aa5fa-7954-4191-976a-7d81731aac10> (texto adaptado). ChatGPT. Acessado em: 09/11/2023 16:38."
   ]
  }
 ],
 "metadata": {
  "kernelspec": {
   "display_name": "Python 3",
   "language": "python",
   "name": "python3"
  },
  "language_info": {
   "codemirror_mode": {
    "name": "ipython",
    "version": 3
   },
   "file_extension": ".py",
   "mimetype": "text/x-python",
   "name": "python",
   "nbconvert_exporter": "python",
   "pygments_lexer": "ipython3",
   "version": "3.8.10"
  },
  "orig_nbformat": 4
 },
 "nbformat": 4,
 "nbformat_minor": 2
}
